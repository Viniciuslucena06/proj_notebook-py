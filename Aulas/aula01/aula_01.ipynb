{
  "metadata": {
    "kernelspec": {
      "name": "python",
      "display_name": "Python (Pyodide)",
      "language": "python"
    },
    "language_info": {
      "codemirror_mode": {
        "name": "python",
        "version": 3
      },
      "file_extension": ".py",
      "mimetype": "text/x-python",
      "name": "python",
      "nbconvert_exporter": "python",
      "pygments_lexer": "ipython3",
      "version": "3.8"
    }
  },
  "nbformat_minor": 5,
  "nbformat": 4,
  "cells": [
    {
      "cell_type": "markdown",
      "source": "01 - Crie um progrma que receba dois valores e retorne a soma:",
      "metadata": {},
      "id": "595ef394-264d-4e36-bd71-0629e61eaca7"
    },
    {
      "cell_type": "code",
      "source": "x = 2\ny = 2\nres = (x+y)\n\nprint(res)",
      "metadata": {
        "trusted": true
      },
      "execution_count": null,
      "outputs": [],
      "id": "b0170381-68ce-4cfb-b53a-fd3c6b36d037"
    },
    {
      "cell_type": "markdown",
      "source": "02 - Crie um programa que receba dois valores e retorne a multiplicação:",
      "metadata": {},
      "id": "a6917950-7c97-4523-a074-276706729851"
    },
    {
      "cell_type": "code",
      "source": "x = 2\ny = 3\nres = (x*y)\n\nprint(res)",
      "metadata": {
        "trusted": true
      },
      "execution_count": null,
      "outputs": [],
      "id": "f7755861-3ade-4ad1-b9cc-657c3acad199"
    }
  ]
}