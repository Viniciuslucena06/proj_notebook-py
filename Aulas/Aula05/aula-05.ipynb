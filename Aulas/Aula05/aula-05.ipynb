{
  "metadata": {
    "language_info": {
      "codemirror_mode": {
        "name": "python",
        "version": 3
      },
      "file_extension": ".py",
      "mimetype": "text/x-python",
      "name": "python",
      "nbconvert_exporter": "python",
      "pygments_lexer": "ipython3",
      "version": "3.8"
    },
    "kernelspec": {
      "name": "python",
      "display_name": "Python (Pyodide)",
      "language": "python"
    }
  },
  "nbformat_minor": 4,
  "nbformat": 4,
  "cells": [
    {
      "cell_type": "markdown",
      "source": "01 - Crie uma lista co quatro nomes, quatro endereços e quatro telefones. Mostr a lista de forma formatada",
      "metadata": {}
    },
    {
      "cell_type": "code",
      "source": "nome=[\n    \"Vinícius\",\n    \"Luísa\",\n    \"Gabriel Jesus\",\n    \"Messi\"\n    ]\nidade=[\n    17,18,29,33\n]\nfone=[\n    \"99940-7070\",\n    \"93729-6060\",\n    \"97425-2020\",\n    \"97242-2024\"\n    ]\nx = 0\nprint(\"{:<18}{:<7}{:<0}\".format(\"Nome\",\"Idade\",\"Telefone\"))\nprint(\"-----------------------------------\")\nwhile(x<=3):\n    print(\"{:<18}{:<7}{:<0}\".format(nome[x],idade[x],fone[x]))\n    x += 1",
      "metadata": {
        "trusted": true
      },
      "execution_count": 9,
      "outputs": [
        {
          "name": "stdout",
          "text": "Nome              Idade  Telefone\n-----------------------------------\nVinícius          17     99940-7070\nLuísa             18     93729-6060\nGabriel Jesus     29     97425-2020\nMessi             33     97242-2024\n",
          "output_type": "stream"
        }
      ]
    },
    {
      "cell_type": "markdown",
      "source": "02 - Crie um programa que mostre tres endereços, tres numeros, tres bairros e tres cidades",
      "metadata": {}
    },
    {
      "cell_type": "code",
      "source": "   \nendereços=[\n     \"Rua Bergamini\",\"Rua Jhon Harley\",\"Rua Pão de Mel\"\n]\n\nnumeros=[\n          555,479,892,\n    ]\nbairros=[\n    \"Morada do Sol\",\n    \"Nações\",\n    \"Vila Martins\"\n    ]\ncidades=[\n    \"campinas\",\n    \"Salto\",\n    \"Indaiatuba\"\n    ]\n\nx = 0\nprint(\"|{:<20}|{:<15}|{:<25}|{:<0}|\".format(\"Endereços\",\"Numeros\",\"Bairros\",\"Cidades\"))\nprint(\"|---------------------+---------------+-------------------------+-------------|\")\nwhile(x<=2):\n    print(\"|{:<20}|{:<15}|{:<25}|{:<0}|\".format(endereços[x],numeros[x],bairros[x],cidades[x]))\n    x += 1",
      "metadata": {
        "trusted": true
      },
      "execution_count": 38,
      "outputs": [
        {
          "name": "stdout",
          "text": "|Endereços           |Numeros        |Bairros                  |Cidades|\n|---------------------+---------------+-------------------------+-------------|\n|Rua Bergamini       |555            |Morada do Sol            |campinas|\n|Rua Jhon Harley     |479            |Nações                   |Salto|\n|Rua Pão de Mel      |892            |Vila Martins             |Indaiatuba|\n",
          "output_type": "stream"
        }
      ]
    },
    {
      "cell_type": "code",
      "source": "",
      "metadata": {},
      "execution_count": null,
      "outputs": []
    }
  ]
}