{
  "metadata": {
    "language_info": {
      "codemirror_mode": {
        "name": "python",
        "version": 3
      },
      "file_extension": ".py",
      "mimetype": "text/x-python",
      "name": "python",
      "nbconvert_exporter": "python",
      "pygments_lexer": "ipython3",
      "version": "3.8"
    },
    "kernelspec": {
      "name": "python",
      "display_name": "Python (Pyodide)",
      "language": "python"
    }
  },
  "nbformat_minor": 4,
  "nbformat": 4,
  "cells": [
    {
      "cell_type": "markdown",
      "source": "01 - Crie um programa que entre com valor zero e conte até cinco:",
      "metadata": {}
    },
    {
      "cell_type": "code",
      "source": "x = 0\nwhile (x<=5):\n    print(x)\n    x +=1",
      "metadata": {
        "trusted": true
      },
      "execution_count": 1,
      "outputs": [
        {
          "name": "stdout",
          "text": "0\n1\n2\n3\n4\n5\n",
          "output_type": "stream"
        }
      ]
    },
    {
      "cell_type": "markdown",
      "source": "02 - Crie um  programa que guarda cinco nomes e demontre o numero amazenado:",
      "metadata": {}
    },
    {
      "cell_type": "code",
      "source": "nome = ['Vinícius','joão','Pedro','Otavio','Luana']\n\nx = 0\nwhile(x<5):\n    print(x,\" - \",nome[x])\n    x += 1",
      "metadata": {
        "trusted": true
      },
      "execution_count": 2,
      "outputs": [
        {
          "name": "stdout",
          "text": "0  -  Vinícius\n1  -  joão\n2  -  Pedro\n3  -  Otavio\n4  -  Luana\n",
          "output_type": "stream"
        }
      ]
    },
    {
      "cell_type": "markdown",
      "source": "03 - Crie um programa que guarde cinco nomes e cinco idedes e demonstre o numero armazenado:",
      "metadata": {}
    },
    {
      "cell_type": "code",
      "source": "nome = ['Vinícius','joão','Pedro','Otavio','Luana']\nidade = ['16','13','15','14','16']\n\nx = 0\nwhile(x<5):\n    print(x,\" - \",nome[x],idade[x],\"anos\")\n    x += 1",
      "metadata": {
        "trusted": true
      },
      "execution_count": 9,
      "outputs": [
        {
          "name": "stdout",
          "text": "0  -  Vinícius 16 anos\n1  -  joão 13 anos\n2  -  Pedro 15 anos\n3  -  Otavio 14 anos\n4  -  Luana 16 anos\n",
          "output_type": "stream"
        }
      ]
    },
    {
      "cell_type": "code",
      "source": "",
      "metadata": {},
      "execution_count": null,
      "outputs": []
    }
  ]
}